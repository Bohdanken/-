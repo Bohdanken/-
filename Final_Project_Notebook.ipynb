{
 "cells": [
  {
   "cell_type": "markdown",
   "id": "482d6afe",
   "metadata": {},
   "source": [
    "# FINAL PROJECT - EEB125"
   ]
  },
  {
   "cell_type": "markdown",
   "id": "e27cd992",
   "metadata": {},
   "source": [
    "### General question of the work:\n",
    "\n",
    "\n",
    "### Specific question of the work:\n",
    "\n",
    "### Hypothesis \n",
    "???\n",
    "\n"
   ]
  },
  {
   "cell_type": "markdown",
   "id": "4adcaad3",
   "metadata": {},
   "source": [
    "тут картиночка з картою by Vika "
   ]
  },
  {
   "cell_type": "markdown",
   "id": "11d7e3ca",
   "metadata": {},
   "source": [
    "## 1. Gathering the data from the datasets\n",
    "\n",
    "#### 1.1 Read the .csv files with data"
   ]
  },
  {
   "cell_type": "code",
   "execution_count": null,
   "id": "fd8d88f2",
   "metadata": {},
   "outputs": [],
   "source": []
  },
  {
   "cell_type": "markdown",
   "id": "7063f3b4",
   "metadata": {},
   "source": [
    "#### 1.2 Display the first rows of obtained dataframes"
   ]
  },
  {
   "cell_type": "code",
   "execution_count": null,
   "id": "138a2558",
   "metadata": {},
   "outputs": [],
   "source": []
  }
 ],
 "metadata": {
  "kernelspec": {
   "display_name": "Python 3 (ipykernel)",
   "language": "python",
   "name": "python3"
  },
  "language_info": {
   "codemirror_mode": {
    "name": "ipython",
    "version": 3
   },
   "file_extension": ".py",
   "mimetype": "text/x-python",
   "name": "python",
   "nbconvert_exporter": "python",
   "pygments_lexer": "ipython3",
   "version": "3.11.2"
  }
 },
 "nbformat": 4,
 "nbformat_minor": 5
}
