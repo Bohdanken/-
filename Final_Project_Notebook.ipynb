{
 "cells": [
  {
   "cell_type": "code",
   "execution_count": 17,
   "id": "7c200610",
   "metadata": {},
   "outputs": [],
   "source": [
    "import pandas as pd\n",
    "import numpy as np\n",
    "INPUT_DATA_FOLDER = \"D:/EEB/resources\"\n",
    "DATA_FILES=[\"GBIF_australia.csv\",\"GBIF_can_us.csv\", \"GBIF_east_africa.csv\", \"GBIF_east_asia.csv\",\"GBIF_n_europe.csv\", \"GBIF_south_america.csv\", \"GBIF_south_america_tropics.csv\", \"GBIF_ukraine_2023.csv\"]"
   ]
  },
  {
   "cell_type": "markdown",
   "id": "482d6afe",
   "metadata": {},
   "source": [
    "# FINAL PROJECT - EEB125"
   ]
  },
  {
   "cell_type": "markdown",
   "id": "e27cd992",
   "metadata": {},
   "source": [
    "### General question of the work:\n",
    "\n",
    "\n",
    "### Specific question of the work:\n",
    "\n",
    "### Hypothesis \n",
    "???\n",
    "\n"
   ]
  },
  {
   "cell_type": "markdown",
   "id": "4adcaad3",
   "metadata": {},
   "source": [
    "тут картиночка з картою by Vika "
   ]
  },
  {
   "cell_type": "markdown",
   "id": "11d7e3ca",
   "metadata": {},
   "source": [
    "## 1. Gathering the data from the datasets\n",
    "\n",
    "#### 1.1 Read the .csv files with data"
   ]
  },
  {
   "cell_type": "code",
   "execution_count": 22,
   "id": "fd8d88f2",
   "metadata": {},
   "outputs": [
    {
     "data": {
      "text/html": [
       "<div>\n",
       "<style scoped>\n",
       "    .dataframe tbody tr th:only-of-type {\n",
       "        vertical-align: middle;\n",
       "    }\n",
       "\n",
       "    .dataframe tbody tr th {\n",
       "        vertical-align: top;\n",
       "    }\n",
       "\n",
       "    .dataframe thead th {\n",
       "        text-align: right;\n",
       "    }\n",
       "</style>\n",
       "<table border=\"1\" class=\"dataframe\">\n",
       "  <thead>\n",
       "    <tr style=\"text-align: right;\">\n",
       "      <th></th>\n",
       "      <th>scientificName</th>\n",
       "      <th>class</th>\n",
       "      <th>order</th>\n",
       "      <th>family</th>\n",
       "      <th>species</th>\n",
       "    </tr>\n",
       "  </thead>\n",
       "  <tbody>\n",
       "    <tr>\n",
       "      <th>0</th>\n",
       "      <td>Psittaciformes</td>\n",
       "      <td>Aves</td>\n",
       "      <td>Psittaciformes</td>\n",
       "      <td>NaN</td>\n",
       "      <td>NaN</td>\n",
       "    </tr>\n",
       "    <tr>\n",
       "      <th>1</th>\n",
       "      <td>Lathrecista asiatica Fabricius, 1798</td>\n",
       "      <td>Insecta</td>\n",
       "      <td>Odonata</td>\n",
       "      <td>Libellulidae</td>\n",
       "      <td>Lathrecista asiatica</td>\n",
       "    </tr>\n",
       "    <tr>\n",
       "      <th>2</th>\n",
       "      <td>Hemicordulia continentalis Martin, 1907</td>\n",
       "      <td>Insecta</td>\n",
       "      <td>Odonata</td>\n",
       "      <td>Corduliidae</td>\n",
       "      <td>Hemicordulia continentalis</td>\n",
       "    </tr>\n",
       "    <tr>\n",
       "      <th>3</th>\n",
       "      <td>Ozphyllum naskreckii Rentz, Su &amp; Ueshima, 2007</td>\n",
       "      <td>Insecta</td>\n",
       "      <td>Orthoptera</td>\n",
       "      <td>Tettigoniidae</td>\n",
       "      <td>Ozphyllum naskreckii</td>\n",
       "    </tr>\n",
       "    <tr>\n",
       "      <th>4</th>\n",
       "      <td>Corgatha figuralis Walker, 1865</td>\n",
       "      <td>Insecta</td>\n",
       "      <td>Lepidoptera</td>\n",
       "      <td>Erebidae</td>\n",
       "      <td>Corgatha figuralis</td>\n",
       "    </tr>\n",
       "    <tr>\n",
       "      <th>5</th>\n",
       "      <td>Ortholomia moluccana Felder, 1861</td>\n",
       "      <td>Insecta</td>\n",
       "      <td>Lepidoptera</td>\n",
       "      <td>Notodontidae</td>\n",
       "      <td>Ortholomia moluccana</td>\n",
       "    </tr>\n",
       "    <tr>\n",
       "      <th>6</th>\n",
       "      <td>Telecrates laetiorella (Walker, 1864)</td>\n",
       "      <td>Insecta</td>\n",
       "      <td>Lepidoptera</td>\n",
       "      <td>Xyloryctidae</td>\n",
       "      <td>Telecrates laetiorella</td>\n",
       "    </tr>\n",
       "    <tr>\n",
       "      <th>7</th>\n",
       "      <td>Hypocysta irius Fabricius, 1775</td>\n",
       "      <td>Insecta</td>\n",
       "      <td>Lepidoptera</td>\n",
       "      <td>Nymphalidae</td>\n",
       "      <td>Hypocysta irius</td>\n",
       "    </tr>\n",
       "    <tr>\n",
       "      <th>8</th>\n",
       "      <td>Amelora zophopasta Turner, 1919</td>\n",
       "      <td>Insecta</td>\n",
       "      <td>Lepidoptera</td>\n",
       "      <td>Geometridae</td>\n",
       "      <td>Amelora zophopasta</td>\n",
       "    </tr>\n",
       "    <tr>\n",
       "      <th>9</th>\n",
       "      <td>Cyneoterpna wilsoni (Felder &amp; Rogenhofer, 1875)</td>\n",
       "      <td>Insecta</td>\n",
       "      <td>Lepidoptera</td>\n",
       "      <td>Geometridae</td>\n",
       "      <td>Cyneoterpna wilsoni</td>\n",
       "    </tr>\n",
       "  </tbody>\n",
       "</table>\n",
       "</div>"
      ],
      "text/plain": [
       "                                    scientificName    class           order  \\\n",
       "0                                   Psittaciformes     Aves  Psittaciformes   \n",
       "1             Lathrecista asiatica Fabricius, 1798  Insecta         Odonata   \n",
       "2          Hemicordulia continentalis Martin, 1907  Insecta         Odonata   \n",
       "3   Ozphyllum naskreckii Rentz, Su & Ueshima, 2007  Insecta      Orthoptera   \n",
       "4                  Corgatha figuralis Walker, 1865  Insecta     Lepidoptera   \n",
       "5                Ortholomia moluccana Felder, 1861  Insecta     Lepidoptera   \n",
       "6            Telecrates laetiorella (Walker, 1864)  Insecta     Lepidoptera   \n",
       "7                  Hypocysta irius Fabricius, 1775  Insecta     Lepidoptera   \n",
       "8                  Amelora zophopasta Turner, 1919  Insecta     Lepidoptera   \n",
       "9  Cyneoterpna wilsoni (Felder & Rogenhofer, 1875)  Insecta     Lepidoptera   \n",
       "\n",
       "          family                     species  \n",
       "0            NaN                         NaN  \n",
       "1   Libellulidae        Lathrecista asiatica  \n",
       "2    Corduliidae  Hemicordulia continentalis  \n",
       "3  Tettigoniidae        Ozphyllum naskreckii  \n",
       "4       Erebidae          Corgatha figuralis  \n",
       "5   Notodontidae        Ortholomia moluccana  \n",
       "6   Xyloryctidae      Telecrates laetiorella  \n",
       "7    Nymphalidae             Hypocysta irius  \n",
       "8    Geometridae          Amelora zophopasta  \n",
       "9    Geometridae         Cyneoterpna wilsoni  "
      ]
     },
     "execution_count": 22,
     "metadata": {},
     "output_type": "execute_result"
    }
   ],
   "source": [
    "df=[]\n",
    "for file in DATA_FILES: \n",
    "    df.append( pd.read_csv(f\"{INPUT_DATA_FOLDER}/{file}\", sep='\\t').filter([\"scientificName\",\"class\",\"order\",\"family\", \"species\"]))\n",
    "df[0].head(10)"
   ]
  },
  {
   "cell_type": "code",
   "execution_count": null,
   "id": "67eebb22",
   "metadata": {},
   "outputs": [],
   "source": []
  },
  {
   "cell_type": "markdown",
   "id": "7063f3b4",
   "metadata": {},
   "source": [
    "#### 1.2 Display the first rows of obtained dataframes"
   ]
  },
  {
   "cell_type": "code",
   "execution_count": null,
   "id": "138a2558",
   "metadata": {},
   "outputs": [],
   "source": []
  }
 ],
 "metadata": {
  "kernelspec": {
   "display_name": "Python 3",
   "language": "python",
   "name": "python3"
  },
  "language_info": {
   "codemirror_mode": {
    "name": "ipython",
    "version": 3
   },
   "file_extension": ".py",
   "mimetype": "text/x-python",
   "name": "python",
   "nbconvert_exporter": "python",
   "pygments_lexer": "ipython3",
   "version": "3.9.2"
  }
 },
 "nbformat": 4,
 "nbformat_minor": 5
}
